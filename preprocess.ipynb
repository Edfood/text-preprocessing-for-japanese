{
 "cells": [
  {
   "cell_type": "markdown",
   "metadata": {},
   "source": [
    "# 日本語テキストの前処理\n",
    "\n",
    "## 事前準備\n",
    "\n",
    "READMEを参照"
   ]
  },
  {
   "cell_type": "markdown",
   "metadata": {},
   "source": [
    "## トレーニング用データの読み込み"
   ]
  },
  {
   "cell_type": "code",
   "execution_count": 1,
   "metadata": {},
   "outputs": [],
   "source": [
    "# トレーニング用データのフォルダ\n",
    "data_dir = './data/'\n",
    "\n",
    "# トレーニング用データのファイル名\n",
    "text_file = 'raw.txt'\n",
    "\n",
    "with open(data_dir + text_file, \"r\", encoding=\"utf-8\") as f:\n",
    "    text_list = f.readlines()"
   ]
  },
  {
   "cell_type": "markdown",
   "metadata": {},
   "source": [
    "## データの正規化\n",
    "\n",
    "正規化を行うための関数定義\n",
    "\n",
    "使用させていただいた正規化のコード: https://github.com/neologd/mecab-ipadic-neologd/wiki/Regexp.ja"
   ]
  },
  {
   "cell_type": "code",
   "execution_count": 2,
   "metadata": {},
   "outputs": [],
   "source": [
    "# encoding: utf8\n",
    "from __future__ import unicode_literals\n",
    "import re\n",
    "import unicodedata\n",
    "\n",
    "def unicode_normalize(cls, s):\n",
    "    pt = re.compile('([{}]+)'.format(cls))\n",
    "\n",
    "    def norm(c):\n",
    "        return unicodedata.normalize('NFKC', c) if pt.match(c) else c\n",
    "\n",
    "    s = ''.join(norm(x) for x in re.split(pt, s))\n",
    "    s = re.sub('－', '-', s)\n",
    "    return s\n",
    "\n",
    "def remove_extra_spaces(s):\n",
    "    s = re.sub('[ 　]+', ' ', s)\n",
    "    blocks = ''.join(('\\u4E00-\\u9FFF',  # CJK UNIFIED IDEOGRAPHS\n",
    "                      '\\u3040-\\u309F',  # HIRAGANA\n",
    "                      '\\u30A0-\\u30FF',  # KATAKANA\n",
    "                      '\\u3000-\\u303F',  # CJK SYMBOLS AND PUNCTUATION\n",
    "                      '\\uFF00-\\uFFEF'   # HALFWIDTH AND FULLWIDTH FORMS\n",
    "                      ))\n",
    "    basic_latin = '\\u0000-\\u007F'\n",
    "\n",
    "    def remove_space_between(cls1, cls2, s):\n",
    "        p = re.compile('([{}]) ([{}])'.format(cls1, cls2))\n",
    "        while p.search(s):\n",
    "            s = p.sub(r'\\1\\2', s)\n",
    "        return s\n",
    "\n",
    "    s = remove_space_between(blocks, blocks, s)\n",
    "    s = remove_space_between(blocks, basic_latin, s)\n",
    "    s = remove_space_between(basic_latin, blocks, s)\n",
    "    return s\n",
    "\n",
    "def normalize_neologd(s):\n",
    "    s = s.strip()\n",
    "    s = unicode_normalize('０-９Ａ-Ｚａ-ｚ｡-ﾟ', s)\n",
    "\n",
    "    def maketrans(f, t):\n",
    "        return {ord(x): ord(y) for x, y in zip(f, t)}\n",
    "\n",
    "    s = re.sub('[˗֊‐‑‒–⁃⁻₋−]+', '-', s)  # normalize hyphens\n",
    "    s = re.sub('[﹣－ｰ—―─━ー]+', 'ー', s)  # normalize choonpus\n",
    "    s = re.sub('[~∼∾〜〰～]', '', s)  # remove tildes\n",
    "    s = s.translate(\n",
    "        maketrans('!\"#$%&\\'()*+,-./:;<=>?@[¥]^_`{|}~｡､･｢｣',\n",
    "              '！”＃＄％＆’（）＊＋，－．／：；＜＝＞？＠［￥］＾＿｀｛｜｝〜。、・「」'))\n",
    "\n",
    "    s = remove_extra_spaces(s)\n",
    "    s = unicode_normalize('！”＃＄％＆’（）＊＋，－．／：；＜＞？＠［￥］＾＿｀｛｜｝〜', s)  # keep ＝,・,「,」\n",
    "    s = re.sub('[’]', '\\'', s)\n",
    "    s = re.sub('[”]', '\"', s)\n",
    "    return s"
   ]
  },
  {
   "cell_type": "markdown",
   "metadata": {},
   "source": [
    "読み込んだ文章に対して正規化を行う。"
   ]
  },
  {
   "cell_type": "code",
   "execution_count": 3,
   "metadata": {},
   "outputs": [
    {
     "data": {
      "application/vnd.jupyter.widget-view+json": {
       "model_id": "acdc06d67fd14223901b8fcd877881b8",
       "version_major": 2,
       "version_minor": 0
      },
      "text/plain": [
       "HBox(children=(HTML(value=''), FloatProgress(value=0.0, max=24864932.0), HTML(value='')))"
      ]
     },
     "metadata": {},
     "output_type": "display_data"
    },
    {
     "name": "stdout",
     "output_type": "stream",
     "text": [
      "\n",
      "['アンパサンド', '', 'アンパサンド(&、英語名:)とは並立助詞「…と…」を意味する記号である。ラテン語のの合字で、Trebuchet MSフォントでは、と表示され \"et\" の合字であることが容易にわかる。ampersa、すなわち \"and per se and\"、その意味は\"and[the symbol which]by itself[is]and\"である。', '', 'その使用は1世紀に遡ることができ、5世紀中葉から現代に至るまでの変遷がわかる。', 'Zに続くラテン文字アルファベットの27字目とされた時期もある。', '', 'アンパサンドと同じ役割を果たす文字に「のet」と呼ばれる、数字の「7」に似た記号があった(,U+204A)。この記号は現在もゲール文字で使われている。', '', '記号名の「アンパサンド」は、ラテン語まじりの英語「&はそれ自身 \"and\" を表す」(&per se and)のくずれた形である。英語以外の言語での名称は多様である。']\n"
     ]
    }
   ],
   "source": [
    "from tqdm.notebook import tqdm\n",
    "\n",
    "# 前処理を全文に対して行う関数\n",
    "def normalize_text(text_list):\n",
    "    for i, line in enumerate(tqdm(text_list)):\n",
    "        text_list[i] = normalize_neologd(line)\n",
    "\n",
    "\n",
    "normalize_text(text_list)\n",
    "print(text_list[:10])"
   ]
  },
  {
   "cell_type": "markdown",
   "metadata": {},
   "source": [
    "## トークナイズ\n",
    "**MeCab**を使用してトークナイズ。"
   ]
  },
  {
   "cell_type": "code",
   "execution_count": 4,
   "metadata": {},
   "outputs": [
    {
     "data": {
      "application/vnd.jupyter.widget-view+json": {
       "model_id": "e9a10af309cb41649cbebdc535494e7a",
       "version_major": 2,
       "version_minor": 0
      },
      "text/plain": [
       "HBox(children=(HTML(value=''), FloatProgress(value=0.0, max=24864932.0), HTML(value='')))"
      ]
     },
     "metadata": {},
     "output_type": "display_data"
    },
    {
     "name": "stdout",
     "output_type": "stream",
     "text": [
      "\n",
      "['アンパサンド \\n', '\\n', 'アンパサンド (&、 英語名 :) と は 並立 助詞 「 … と … 」 を 意味 する 記号 で ある 。 ラテン語 の の 合字 で 、 Trebuchet MS フォント で は 、 と 表示 さ れ \" et \" の 合字 で ある こと が 容易 に わかる 。 ampersa 、 すなわち \" and per se and \"、 その 意味 は \" and [ the symbol which ] by itself [ is ] and \" で ある 。 \\n', '\\n', 'その 使用 は 1世紀 に 遡る こと が でき 、 5世紀 中葉 から 現代 に 至る まで の 変遷 が わかる 。 \\n', 'Z に 続く ラテン文字 アルファベット の 27 字 目 と さ れ た 時期 も ある 。 \\n', '\\n', 'アンパサンド と 同じ 役割 を 果たす 文字 に 「 の et 」 と 呼ば れる 、 数字 の 「 7 」 に 似 た 記号 が あっ た (, U + 204 A )。 この 記号 は 現在 も ゲール文字 で 使わ れ て いる 。 \\n', '\\n', '記号 名 の 「 アンパサンド 」 は 、 ラテン語 まじり の 英語 「& は それ 自身 \" and \" を 表す 」(& per se and ) の くずれ た 形 で ある 。 英語 以外 の 言語 で の 名称 は 多様 で ある 。 \\n']\n"
     ]
    }
   ],
   "source": [
    "import MeCab\n",
    "\n",
    "def tokenize_text(text_list):\n",
    "    tagger = MeCab.Tagger('-Owakati -d /usr/local/lib/mecab/dic/mecab-ipadic-neologd')\n",
    "    tagger.parse('')\n",
    "    for i, line in enumerate(tqdm(text_list)):\n",
    "        parsed_line = tagger.parse(line)\n",
    "        text_list[i] = parsed_line\n",
    "\n",
    "\n",
    "tokenize_text(text_list)\n",
    "print(text_list[:10])"
   ]
  },
  {
   "cell_type": "markdown",
   "metadata": {},
   "source": [
    "## 前処理済みテキストデータの保存"
   ]
  },
  {
   "cell_type": "code",
   "execution_count": 5,
   "metadata": {},
   "outputs": [],
   "source": [
    "# 保存ファイル名\n",
    "output_file = 'train.txt'\n",
    "\n",
    "with open(data_dir + output_file, 'w', encoding=\"utf-8\") as f:\n",
    "    f.writelines(text_list)\n"
   ]
  }
 ],
 "metadata": {
  "kernelspec": {
   "display_name": "Python 3",
   "language": "python",
   "name": "python3"
  },
  "language_info": {
   "codemirror_mode": {
    "name": "ipython",
    "version": 3
   },
   "file_extension": ".py",
   "mimetype": "text/x-python",
   "name": "python",
   "nbconvert_exporter": "python",
   "pygments_lexer": "ipython3",
   "version": "3.8.6"
  }
 },
 "nbformat": 4,
 "nbformat_minor": 2
}
